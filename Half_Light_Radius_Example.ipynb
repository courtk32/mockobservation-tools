{
 "cells": [
  {
   "cell_type": "code",
   "execution_count": 1,
   "id": "26de0574",
   "metadata": {},
   "outputs": [
    {
     "name": "stdout",
     "output_type": "stream",
     "text": [
      "Couldn't import numba. Missing:\n",
      "abg_python.all_utils.get_cylindrical_velocities\n",
      "Missing firefly, obtain it at http://github.com/ageller/Firefly or pip install firefly.\n"
     ]
    }
   ],
   "source": [
    "import matplotlib.pyplot as plt\n",
    "import numpy as np\n",
    "\n",
    "from galaxy_tools import load_halo, load_sim, mask_sim_to_halo, get_mock_observation\n",
    "from general_tools import radius_of_param_limit, mag_to_lum_SB, measure_surfbright\n",
    "\n",
    "from firestudio.utils.stellar_utils import raytrace_projection\n",
    "\n",
    "%matplotlib inline\n"
   ]
  },
  {
   "cell_type": "code",
   "execution_count": 2,
   "id": "e68c1ff3",
   "metadata": {},
   "outputs": [],
   "source": [
    "sim = 'm12_elvis_RomulusRemus_res4000'\n",
    "\n",
    "snap_num = 600\n",
    "\n",
    "# path to the directory holding the simulation snapshot \n",
    "sim_path =  '/data17/grenache/aalazar/FIRE/GVB/'+str(sim)+'/output/hdf5/snapdir_'+str(snap_num)+'/'\n",
    "\n",
    "# path to the directory holding the halo files for the simulation\n",
    "halo_path = '/data17/grenache/aalazar/FIRE/GVB/'+str(sim)+'/halo/rockstar_dm/hdf5/'\n"
   ]
  },
  {
   "cell_type": "code",
   "execution_count": 3,
   "id": "70ac3d17",
   "metadata": {},
   "outputs": [],
   "source": [
    "# This loads the halo file\n",
    "# host=True means it only returns the host halo information, otherwise it returns all the halos\n",
    "# filetype='hdf5' indicate the halo file type, some halos are filetype='ascii'\n",
    "# hostnumber indicates which host halo you are looking at. Only need to worry about this for the elvis pairs.\n",
    "        #use hostnumber=2 to get the halo info for the second host halo. \n",
    "        #ex: halo_themla = load_halo(halo_path, snap_num, host=True, filetype='hdf5', hostnumber=1)\n",
    "        #    halo_louise = load_halo(halo_path, snap_num, host=True, filetype='hdf5', hostnumber=2)\n",
    "\n",
    "\n",
    "halo = load_halo(halo_path, snap_num, host=True, filetype='hdf5', hostnumber=2)\n"
   ]
  },
  {
   "cell_type": "code",
   "execution_count": 4,
   "id": "099359a4",
   "metadata": {},
   "outputs": [
    {
     "ename": "KeyboardInterrupt",
     "evalue": "",
     "output_type": "error",
     "traceback": [
      "\u001b[0;31m---------------------------------------------------------------------------\u001b[0m",
      "\u001b[0;31mKeyboardInterrupt\u001b[0m                         Traceback (most recent call last)",
      "\u001b[0;32m<ipython-input-4-90e985874623>\u001b[0m in \u001b[0;36m<module>\u001b[0;34m\u001b[0m\n\u001b[1;32m      2\u001b[0m \u001b[0;31m# It only loads the parameters I need for the mock images\u001b[0m\u001b[0;34m\u001b[0m\u001b[0;34m\u001b[0m\u001b[0;34m\u001b[0m\u001b[0m\n\u001b[1;32m      3\u001b[0m \u001b[0;34m\u001b[0m\u001b[0m\n\u001b[0;32m----> 4\u001b[0;31m \u001b[0mstar_snapdict\u001b[0m\u001b[0;34m,\u001b[0m \u001b[0mgas_snapdict\u001b[0m \u001b[0;34m=\u001b[0m \u001b[0mload_sim\u001b[0m\u001b[0;34m(\u001b[0m\u001b[0msim_path\u001b[0m\u001b[0;34m,\u001b[0m\u001b[0msnap_num\u001b[0m\u001b[0;34m)\u001b[0m\u001b[0;34m\u001b[0m\u001b[0;34m\u001b[0m\u001b[0m\n\u001b[0m",
      "\u001b[0;32m/nfspool-0/home/kleinca/my_tools/galaxy_tools.py\u001b[0m in \u001b[0;36mload_sim\u001b[0;34m(pathtofolder, snapshot, gas_temp)\u001b[0m\n\u001b[1;32m    116\u001b[0m \u001b[0;34m\u001b[0m\u001b[0m\n\u001b[1;32m    117\u001b[0m     \u001b[0mz_form\u001b[0m \u001b[0;34m=\u001b[0m \u001b[0;36m1\u001b[0m\u001b[0;34m/\u001b[0m\u001b[0mstar_snapdict\u001b[0m\u001b[0;34m[\u001b[0m\u001b[0;34m'StellarFormationTime'\u001b[0m\u001b[0;34m]\u001b[0m \u001b[0;34m-\u001b[0m \u001b[0;36m1\u001b[0m\u001b[0;34m\u001b[0m\u001b[0;34m\u001b[0m\u001b[0m\n\u001b[0;32m--> 118\u001b[0;31m     \u001b[0mstar_snapdict\u001b[0m\u001b[0;34m[\u001b[0m\u001b[0;34m'StellarAge'\u001b[0m\u001b[0;34m]\u001b[0m \u001b[0;34m=\u001b[0m \u001b[0mnp\u001b[0m\u001b[0;34m.\u001b[0m\u001b[0marray\u001b[0m\u001b[0;34m(\u001b[0m \u001b[0;34m(\u001b[0m \u001b[0mPlanck13\u001b[0m\u001b[0;34m.\u001b[0m\u001b[0mlookback_time\u001b[0m\u001b[0;34m(\u001b[0m \u001b[0mz_form\u001b[0m \u001b[0;34m)\u001b[0m \u001b[0;34m)\u001b[0m \u001b[0;34m)\u001b[0m\u001b[0;34m\u001b[0m\u001b[0;34m\u001b[0m\u001b[0m\n\u001b[0m\u001b[1;32m    119\u001b[0m \u001b[0;34m\u001b[0m\u001b[0m\n\u001b[1;32m    120\u001b[0m     \u001b[0mstar_snapdict\u001b[0m\u001b[0;34m[\u001b[0m\u001b[0;34m'h'\u001b[0m\u001b[0;34m]\u001b[0m \u001b[0;34m=\u001b[0m \u001b[0mh\u001b[0m\u001b[0;34m\u001b[0m\u001b[0;34m\u001b[0m\u001b[0m\n",
      "\u001b[0;32m/nfspool-0/home/kleinca/myenviro/lib64/python3.6/site-packages/astropy/cosmology/core.py\u001b[0m in \u001b[0;36mlookback_time\u001b[0;34m(self, z)\u001b[0m\n\u001b[1;32m   1052\u001b[0m         \u001b[0mz_at_value\u001b[0m \u001b[0;34m:\u001b[0m \u001b[0mFind\u001b[0m \u001b[0mthe\u001b[0m \u001b[0mredshift\u001b[0m \u001b[0mcorresponding\u001b[0m \u001b[0mto\u001b[0m \u001b[0ma\u001b[0m \u001b[0mlookback\u001b[0m \u001b[0mtime\u001b[0m\u001b[0;34m.\u001b[0m\u001b[0;34m\u001b[0m\u001b[0;34m\u001b[0m\u001b[0m\n\u001b[1;32m   1053\u001b[0m         \"\"\"\n\u001b[0;32m-> 1054\u001b[0;31m         \u001b[0;32mreturn\u001b[0m \u001b[0mself\u001b[0m\u001b[0;34m.\u001b[0m\u001b[0m_lookback_time\u001b[0m\u001b[0;34m(\u001b[0m\u001b[0mz\u001b[0m\u001b[0;34m)\u001b[0m\u001b[0;34m\u001b[0m\u001b[0;34m\u001b[0m\u001b[0m\n\u001b[0m\u001b[1;32m   1055\u001b[0m \u001b[0;34m\u001b[0m\u001b[0m\n\u001b[1;32m   1056\u001b[0m     \u001b[0;32mdef\u001b[0m \u001b[0m_lookback_time\u001b[0m\u001b[0;34m(\u001b[0m\u001b[0mself\u001b[0m\u001b[0;34m,\u001b[0m \u001b[0mz\u001b[0m\u001b[0;34m)\u001b[0m\u001b[0;34m:\u001b[0m\u001b[0;34m\u001b[0m\u001b[0;34m\u001b[0m\u001b[0m\n",
      "\u001b[0;32m/nfspool-0/home/kleinca/myenviro/lib64/python3.6/site-packages/astropy/cosmology/core.py\u001b[0m in \u001b[0;36m_lookback_time\u001b[0;34m(self, z)\u001b[0m\n\u001b[1;32m   1070\u001b[0m           \u001b[0mLookback\u001b[0m \u001b[0mtime\u001b[0m \u001b[0;32min\u001b[0m \u001b[0mGyr\u001b[0m \u001b[0mto\u001b[0m \u001b[0meach\u001b[0m \u001b[0minput\u001b[0m \u001b[0mredshift\u001b[0m\u001b[0;34m.\u001b[0m\u001b[0;34m\u001b[0m\u001b[0;34m\u001b[0m\u001b[0m\n\u001b[1;32m   1071\u001b[0m         \"\"\"\n\u001b[0;32m-> 1072\u001b[0;31m         \u001b[0;32mreturn\u001b[0m \u001b[0mself\u001b[0m\u001b[0;34m.\u001b[0m\u001b[0m_integral_lookback_time\u001b[0m\u001b[0;34m(\u001b[0m\u001b[0mz\u001b[0m\u001b[0;34m)\u001b[0m\u001b[0;34m\u001b[0m\u001b[0;34m\u001b[0m\u001b[0m\n\u001b[0m\u001b[1;32m   1073\u001b[0m \u001b[0;34m\u001b[0m\u001b[0m\n\u001b[1;32m   1074\u001b[0m     \u001b[0;32mdef\u001b[0m \u001b[0m_integral_lookback_time\u001b[0m\u001b[0;34m(\u001b[0m\u001b[0mself\u001b[0m\u001b[0;34m,\u001b[0m \u001b[0mz\u001b[0m\u001b[0;34m)\u001b[0m\u001b[0;34m:\u001b[0m\u001b[0;34m\u001b[0m\u001b[0;34m\u001b[0m\u001b[0m\n",
      "\u001b[0;32m/nfspool-0/home/kleinca/myenviro/lib64/python3.6/site-packages/astropy/cosmology/core.py\u001b[0m in \u001b[0;36m_integral_lookback_time\u001b[0;34m(self, z)\u001b[0m\n\u001b[1;32m   1090\u001b[0m         \u001b[0;32mfrom\u001b[0m \u001b[0mscipy\u001b[0m\u001b[0;34m.\u001b[0m\u001b[0mintegrate\u001b[0m \u001b[0;32mimport\u001b[0m \u001b[0mquad\u001b[0m\u001b[0;34m\u001b[0m\u001b[0;34m\u001b[0m\u001b[0m\n\u001b[1;32m   1091\u001b[0m         \u001b[0mf\u001b[0m \u001b[0;34m=\u001b[0m \u001b[0;32mlambda\u001b[0m \u001b[0mred\u001b[0m\u001b[0;34m:\u001b[0m \u001b[0mquad\u001b[0m\u001b[0;34m(\u001b[0m\u001b[0mself\u001b[0m\u001b[0;34m.\u001b[0m\u001b[0m_lookback_time_integrand_scalar\u001b[0m\u001b[0;34m,\u001b[0m \u001b[0;36m0\u001b[0m\u001b[0;34m,\u001b[0m \u001b[0mred\u001b[0m\u001b[0;34m)\u001b[0m\u001b[0;34m[\u001b[0m\u001b[0;36m0\u001b[0m\u001b[0;34m]\u001b[0m\u001b[0;34m\u001b[0m\u001b[0;34m\u001b[0m\u001b[0m\n\u001b[0;32m-> 1092\u001b[0;31m         \u001b[0;32mreturn\u001b[0m \u001b[0mself\u001b[0m\u001b[0;34m.\u001b[0m\u001b[0m_hubble_time\u001b[0m \u001b[0;34m*\u001b[0m \u001b[0mvectorize_if_needed\u001b[0m\u001b[0;34m(\u001b[0m\u001b[0mf\u001b[0m\u001b[0;34m,\u001b[0m \u001b[0mz\u001b[0m\u001b[0;34m)\u001b[0m\u001b[0;34m\u001b[0m\u001b[0;34m\u001b[0m\u001b[0m\n\u001b[0m\u001b[1;32m   1093\u001b[0m \u001b[0;34m\u001b[0m\u001b[0m\n\u001b[1;32m   1094\u001b[0m     \u001b[0;32mdef\u001b[0m \u001b[0mlookback_distance\u001b[0m\u001b[0;34m(\u001b[0m\u001b[0mself\u001b[0m\u001b[0;34m,\u001b[0m \u001b[0mz\u001b[0m\u001b[0;34m)\u001b[0m\u001b[0;34m:\u001b[0m\u001b[0;34m\u001b[0m\u001b[0;34m\u001b[0m\u001b[0m\n",
      "\u001b[0;32m/nfspool-0/home/kleinca/myenviro/lib64/python3.6/site-packages/astropy/cosmology/core.py\u001b[0m in \u001b[0;36mvectorize_if_needed\u001b[0;34m(func, *x)\u001b[0m\n\u001b[1;32m   3260\u001b[0m     \u001b[0;34m\"\"\" Helper function to vectorize functions on array inputs\"\"\"\u001b[0m\u001b[0;34m\u001b[0m\u001b[0;34m\u001b[0m\u001b[0m\n\u001b[1;32m   3261\u001b[0m     \u001b[0;32mif\u001b[0m \u001b[0many\u001b[0m\u001b[0;34m(\u001b[0m\u001b[0mmap\u001b[0m\u001b[0;34m(\u001b[0m\u001b[0misiterable\u001b[0m\u001b[0;34m,\u001b[0m \u001b[0mx\u001b[0m\u001b[0;34m)\u001b[0m\u001b[0;34m)\u001b[0m\u001b[0;34m:\u001b[0m\u001b[0;34m\u001b[0m\u001b[0;34m\u001b[0m\u001b[0m\n\u001b[0;32m-> 3262\u001b[0;31m         \u001b[0;32mreturn\u001b[0m \u001b[0mnp\u001b[0m\u001b[0;34m.\u001b[0m\u001b[0mvectorize\u001b[0m\u001b[0;34m(\u001b[0m\u001b[0mfunc\u001b[0m\u001b[0;34m)\u001b[0m\u001b[0;34m(\u001b[0m\u001b[0;34m*\u001b[0m\u001b[0mx\u001b[0m\u001b[0;34m)\u001b[0m\u001b[0;34m\u001b[0m\u001b[0;34m\u001b[0m\u001b[0m\n\u001b[0m\u001b[1;32m   3263\u001b[0m     \u001b[0;32melse\u001b[0m\u001b[0;34m:\u001b[0m\u001b[0;34m\u001b[0m\u001b[0;34m\u001b[0m\u001b[0m\n\u001b[1;32m   3264\u001b[0m         \u001b[0;32mreturn\u001b[0m \u001b[0mfunc\u001b[0m\u001b[0;34m(\u001b[0m\u001b[0;34m*\u001b[0m\u001b[0mx\u001b[0m\u001b[0;34m)\u001b[0m\u001b[0;34m\u001b[0m\u001b[0;34m\u001b[0m\u001b[0m\n",
      "\u001b[0;32m/nfspool-0/home/kleinca/myenviro/lib64/python3.6/site-packages/numpy/lib/function_base.py\u001b[0m in \u001b[0;36m__call__\u001b[0;34m(self, *args, **kwargs)\u001b[0m\n\u001b[1;32m   2106\u001b[0m             \u001b[0mvargs\u001b[0m\u001b[0;34m.\u001b[0m\u001b[0mextend\u001b[0m\u001b[0;34m(\u001b[0m\u001b[0;34m[\u001b[0m\u001b[0mkwargs\u001b[0m\u001b[0;34m[\u001b[0m\u001b[0m_n\u001b[0m\u001b[0;34m]\u001b[0m \u001b[0;32mfor\u001b[0m \u001b[0m_n\u001b[0m \u001b[0;32min\u001b[0m \u001b[0mnames\u001b[0m\u001b[0;34m]\u001b[0m\u001b[0;34m)\u001b[0m\u001b[0;34m\u001b[0m\u001b[0;34m\u001b[0m\u001b[0m\n\u001b[1;32m   2107\u001b[0m \u001b[0;34m\u001b[0m\u001b[0m\n\u001b[0;32m-> 2108\u001b[0;31m         \u001b[0;32mreturn\u001b[0m \u001b[0mself\u001b[0m\u001b[0;34m.\u001b[0m\u001b[0m_vectorize_call\u001b[0m\u001b[0;34m(\u001b[0m\u001b[0mfunc\u001b[0m\u001b[0;34m=\u001b[0m\u001b[0mfunc\u001b[0m\u001b[0;34m,\u001b[0m \u001b[0margs\u001b[0m\u001b[0;34m=\u001b[0m\u001b[0mvargs\u001b[0m\u001b[0;34m)\u001b[0m\u001b[0;34m\u001b[0m\u001b[0;34m\u001b[0m\u001b[0m\n\u001b[0m\u001b[1;32m   2109\u001b[0m \u001b[0;34m\u001b[0m\u001b[0m\n\u001b[1;32m   2110\u001b[0m     \u001b[0;32mdef\u001b[0m \u001b[0m_get_ufunc_and_otypes\u001b[0m\u001b[0;34m(\u001b[0m\u001b[0mself\u001b[0m\u001b[0;34m,\u001b[0m \u001b[0mfunc\u001b[0m\u001b[0;34m,\u001b[0m \u001b[0margs\u001b[0m\u001b[0;34m)\u001b[0m\u001b[0;34m:\u001b[0m\u001b[0;34m\u001b[0m\u001b[0;34m\u001b[0m\u001b[0m\n",
      "\u001b[0;32m/nfspool-0/home/kleinca/myenviro/lib64/python3.6/site-packages/numpy/lib/function_base.py\u001b[0m in \u001b[0;36m_vectorize_call\u001b[0;34m(self, func, args)\u001b[0m\n\u001b[1;32m   2190\u001b[0m                       for a in args]\n\u001b[1;32m   2191\u001b[0m \u001b[0;34m\u001b[0m\u001b[0m\n\u001b[0;32m-> 2192\u001b[0;31m             \u001b[0moutputs\u001b[0m \u001b[0;34m=\u001b[0m \u001b[0mufunc\u001b[0m\u001b[0;34m(\u001b[0m\u001b[0;34m*\u001b[0m\u001b[0minputs\u001b[0m\u001b[0;34m)\u001b[0m\u001b[0;34m\u001b[0m\u001b[0;34m\u001b[0m\u001b[0m\n\u001b[0m\u001b[1;32m   2193\u001b[0m \u001b[0;34m\u001b[0m\u001b[0m\n\u001b[1;32m   2194\u001b[0m             \u001b[0;32mif\u001b[0m \u001b[0mufunc\u001b[0m\u001b[0;34m.\u001b[0m\u001b[0mnout\u001b[0m \u001b[0;34m==\u001b[0m \u001b[0;36m1\u001b[0m\u001b[0;34m:\u001b[0m\u001b[0;34m\u001b[0m\u001b[0;34m\u001b[0m\u001b[0m\n",
      "\u001b[0;32m/nfspool-0/home/kleinca/myenviro/lib64/python3.6/site-packages/astropy/cosmology/core.py\u001b[0m in \u001b[0;36m<lambda>\u001b[0;34m(red)\u001b[0m\n\u001b[1;32m   1089\u001b[0m         \"\"\"\n\u001b[1;32m   1090\u001b[0m         \u001b[0;32mfrom\u001b[0m \u001b[0mscipy\u001b[0m\u001b[0;34m.\u001b[0m\u001b[0mintegrate\u001b[0m \u001b[0;32mimport\u001b[0m \u001b[0mquad\u001b[0m\u001b[0;34m\u001b[0m\u001b[0;34m\u001b[0m\u001b[0m\n\u001b[0;32m-> 1091\u001b[0;31m         \u001b[0mf\u001b[0m \u001b[0;34m=\u001b[0m \u001b[0;32mlambda\u001b[0m \u001b[0mred\u001b[0m\u001b[0;34m:\u001b[0m \u001b[0mquad\u001b[0m\u001b[0;34m(\u001b[0m\u001b[0mself\u001b[0m\u001b[0;34m.\u001b[0m\u001b[0m_lookback_time_integrand_scalar\u001b[0m\u001b[0;34m,\u001b[0m \u001b[0;36m0\u001b[0m\u001b[0;34m,\u001b[0m \u001b[0mred\u001b[0m\u001b[0;34m)\u001b[0m\u001b[0;34m[\u001b[0m\u001b[0;36m0\u001b[0m\u001b[0;34m]\u001b[0m\u001b[0;34m\u001b[0m\u001b[0;34m\u001b[0m\u001b[0m\n\u001b[0m\u001b[1;32m   1092\u001b[0m         \u001b[0;32mreturn\u001b[0m \u001b[0mself\u001b[0m\u001b[0;34m.\u001b[0m\u001b[0m_hubble_time\u001b[0m \u001b[0;34m*\u001b[0m \u001b[0mvectorize_if_needed\u001b[0m\u001b[0;34m(\u001b[0m\u001b[0mf\u001b[0m\u001b[0;34m,\u001b[0m \u001b[0mz\u001b[0m\u001b[0;34m)\u001b[0m\u001b[0;34m\u001b[0m\u001b[0;34m\u001b[0m\u001b[0m\n\u001b[1;32m   1093\u001b[0m \u001b[0;34m\u001b[0m\u001b[0m\n",
      "\u001b[0;32m/nfspool-0/home/kleinca/myenviro/lib64/python3.6/site-packages/scipy/integrate/quadpack.py\u001b[0m in \u001b[0;36mquad\u001b[0;34m(func, a, b, args, full_output, epsabs, epsrel, limit, points, weight, wvar, wopts, maxp1, limlst)\u001b[0m\n\u001b[1;32m    350\u001b[0m     \u001b[0;32mif\u001b[0m \u001b[0mweight\u001b[0m \u001b[0;32mis\u001b[0m \u001b[0;32mNone\u001b[0m\u001b[0;34m:\u001b[0m\u001b[0;34m\u001b[0m\u001b[0;34m\u001b[0m\u001b[0m\n\u001b[1;32m    351\u001b[0m         retval = _quad(func, a, b, args, full_output, epsabs, epsrel, limit,\n\u001b[0;32m--> 352\u001b[0;31m                        points)\n\u001b[0m\u001b[1;32m    353\u001b[0m     \u001b[0;32melse\u001b[0m\u001b[0;34m:\u001b[0m\u001b[0;34m\u001b[0m\u001b[0;34m\u001b[0m\u001b[0m\n\u001b[1;32m    354\u001b[0m         \u001b[0;32mif\u001b[0m \u001b[0mpoints\u001b[0m \u001b[0;32mis\u001b[0m \u001b[0;32mnot\u001b[0m \u001b[0;32mNone\u001b[0m\u001b[0;34m:\u001b[0m\u001b[0;34m\u001b[0m\u001b[0;34m\u001b[0m\u001b[0m\n",
      "\u001b[0;32m/nfspool-0/home/kleinca/myenviro/lib64/python3.6/site-packages/scipy/integrate/quadpack.py\u001b[0m in \u001b[0;36m_quad\u001b[0;34m(func, a, b, args, full_output, epsabs, epsrel, limit, points)\u001b[0m\n\u001b[1;32m    461\u001b[0m     \u001b[0;32mif\u001b[0m \u001b[0mpoints\u001b[0m \u001b[0;32mis\u001b[0m \u001b[0;32mNone\u001b[0m\u001b[0;34m:\u001b[0m\u001b[0;34m\u001b[0m\u001b[0;34m\u001b[0m\u001b[0m\n\u001b[1;32m    462\u001b[0m         \u001b[0;32mif\u001b[0m \u001b[0minfbounds\u001b[0m \u001b[0;34m==\u001b[0m \u001b[0;36m0\u001b[0m\u001b[0;34m:\u001b[0m\u001b[0;34m\u001b[0m\u001b[0;34m\u001b[0m\u001b[0m\n\u001b[0;32m--> 463\u001b[0;31m             \u001b[0;32mreturn\u001b[0m \u001b[0m_quadpack\u001b[0m\u001b[0;34m.\u001b[0m\u001b[0m_qagse\u001b[0m\u001b[0;34m(\u001b[0m\u001b[0mfunc\u001b[0m\u001b[0;34m,\u001b[0m\u001b[0ma\u001b[0m\u001b[0;34m,\u001b[0m\u001b[0mb\u001b[0m\u001b[0;34m,\u001b[0m\u001b[0margs\u001b[0m\u001b[0;34m,\u001b[0m\u001b[0mfull_output\u001b[0m\u001b[0;34m,\u001b[0m\u001b[0mepsabs\u001b[0m\u001b[0;34m,\u001b[0m\u001b[0mepsrel\u001b[0m\u001b[0;34m,\u001b[0m\u001b[0mlimit\u001b[0m\u001b[0;34m)\u001b[0m\u001b[0;34m\u001b[0m\u001b[0;34m\u001b[0m\u001b[0m\n\u001b[0m\u001b[1;32m    464\u001b[0m         \u001b[0;32melse\u001b[0m\u001b[0;34m:\u001b[0m\u001b[0;34m\u001b[0m\u001b[0;34m\u001b[0m\u001b[0m\n\u001b[1;32m    465\u001b[0m             \u001b[0;32mreturn\u001b[0m \u001b[0m_quadpack\u001b[0m\u001b[0;34m.\u001b[0m\u001b[0m_qagie\u001b[0m\u001b[0;34m(\u001b[0m\u001b[0mfunc\u001b[0m\u001b[0;34m,\u001b[0m\u001b[0mbound\u001b[0m\u001b[0;34m,\u001b[0m\u001b[0minfbounds\u001b[0m\u001b[0;34m,\u001b[0m\u001b[0margs\u001b[0m\u001b[0;34m,\u001b[0m\u001b[0mfull_output\u001b[0m\u001b[0;34m,\u001b[0m\u001b[0mepsabs\u001b[0m\u001b[0;34m,\u001b[0m\u001b[0mepsrel\u001b[0m\u001b[0;34m,\u001b[0m\u001b[0mlimit\u001b[0m\u001b[0;34m)\u001b[0m\u001b[0;34m\u001b[0m\u001b[0;34m\u001b[0m\u001b[0m\n",
      "\u001b[0;32m/nfspool-0/home/kleinca/myenviro/lib64/python3.6/site-packages/astropy/cosmology/core.py\u001b[0m in \u001b[0;36m_lookback_time_integrand_scalar\u001b[0;34m(self, z)\u001b[0m\n\u001b[1;32m    923\u001b[0m \u001b[0;34m\u001b[0m\u001b[0m\n\u001b[1;32m    924\u001b[0m         \u001b[0margs\u001b[0m \u001b[0;34m=\u001b[0m \u001b[0mself\u001b[0m\u001b[0;34m.\u001b[0m\u001b[0m_inv_efunc_scalar_args\u001b[0m\u001b[0;34m\u001b[0m\u001b[0;34m\u001b[0m\u001b[0m\n\u001b[0;32m--> 925\u001b[0;31m         \u001b[0;32mreturn\u001b[0m \u001b[0mself\u001b[0m\u001b[0;34m.\u001b[0m\u001b[0m_inv_efunc_scalar\u001b[0m\u001b[0;34m(\u001b[0m\u001b[0mz\u001b[0m\u001b[0;34m,\u001b[0m \u001b[0;34m*\u001b[0m\u001b[0margs\u001b[0m\u001b[0;34m)\u001b[0m \u001b[0;34m/\u001b[0m \u001b[0;34m(\u001b[0m\u001b[0;36m1.0\u001b[0m \u001b[0;34m+\u001b[0m \u001b[0mz\u001b[0m\u001b[0;34m)\u001b[0m\u001b[0;34m\u001b[0m\u001b[0;34m\u001b[0m\u001b[0m\n\u001b[0m\u001b[1;32m    926\u001b[0m \u001b[0;34m\u001b[0m\u001b[0m\n\u001b[1;32m    927\u001b[0m     \u001b[0;32mdef\u001b[0m \u001b[0mlookback_time_integrand\u001b[0m\u001b[0;34m(\u001b[0m\u001b[0mself\u001b[0m\u001b[0;34m,\u001b[0m \u001b[0mz\u001b[0m\u001b[0;34m)\u001b[0m\u001b[0;34m:\u001b[0m\u001b[0;34m\u001b[0m\u001b[0;34m\u001b[0m\u001b[0m\n",
      "\u001b[0;31mKeyboardInterrupt\u001b[0m: "
     ]
    }
   ],
   "source": [
    "# This loads the star and gas particle\n",
    "# It only loads the parameters I need for the mock images\n",
    "\n",
    "star_snapdict, gas_snapdict = load_sim(sim_path,snap_num)\n"
   ]
  },
  {
   "cell_type": "code",
   "execution_count": null,
   "id": "6f8526d5",
   "metadata": {},
   "outputs": [],
   "source": [
    "# This centers star and gas dictionaries on the host halo\n",
    "# If orient=True, then it will rotate the particles based on the disk orientation\n",
    "# If lim=True, then it masks out the particles beyond the limvalue\n",
    "    # Have lim=False if you want to carry around all the particles\n",
    "    # I chose to mask out particles beyond the virial radius\n",
    "\n",
    "limvalue = halo['Halfmass_Radius'].values[0]/3\n",
    "\n",
    "star_snapdict, gas_snapdict, halo = mask_sim_to_halo(star_snapdict=star_snapdict,\n",
    "                                                         gas_snapdict=gas_snapdict, \n",
    "                                                         host_halo=halo, \n",
    "                                                         orient=True,\n",
    "                                                         lim = True,\n",
    "                                                         limvalue = limvalue\n",
    "                                                        )\n"
   ]
  },
  {
   "cell_type": "code",
   "execution_count": null,
   "id": "10609b6c",
   "metadata": {},
   "outputs": [],
   "source": [
    "plt.hexbin(star_snapdict['Coordinates'][:,0],star_snapdict['Coordinates'][:,1], bins='log')\n",
    "plt.gca().set_aspect(1)"
   ]
  },
  {
   "cell_type": "code",
   "execution_count": null,
   "id": "6f99811d",
   "metadata": {},
   "outputs": [],
   "source": [
    "# mass_scaler: The code expects the masses to be in the simulation units of 1e10 Msun.\n",
    "              #if the mass is in units Msun (which it is for the snapdict), \n",
    "              #then use mass_scaler = 1e-10\n",
    "        \n",
    "# bands: The code will determine the luminosity in 3 bands because the main goal of this code\n",
    "        #is to make the a composite image. \n",
    "        #Band options are:     \n",
    "        #    0  - Absolute mag\n",
    "        #    1  - SDSS u (unprimed AB)\n",
    "        #    2  - SDSS g (unprimed AB)\n",
    "        #    3  - SDSS r (unprimed AB)\n",
    "        #    4  - SDSS i (unprimed AB)\n",
    "        #    5  - SDSS z (unprimed AB)\n",
    "        #    6  - U (BESSEL)\n",
    "        #    7  - B (BESSEL)\n",
    "        #    8  - V (BESSEL)\n",
    "        #    9  - R (KPNO)\n",
    "        #    10 - I (KPNO)\n",
    "        #    11 - J (BESSEL)\n",
    "        #    12 - H (BESSEL)\n",
    "        #    13 - K (BESSEL)\n",
    "        #For my research I usually use u, g, r\n",
    "\n",
    "mass_scaler = 1e-10\n",
    "bands = [1,2,3]\n",
    "\n",
    "\n",
    "#lums is the luminosity of each particle in units of 1e-10 Lsum\n",
    "#kappa has to do with the opacity of the band\n",
    "\n",
    "kappas,lums = raytrace_projection.read_band_lums_from_tables([1,2,3],\n",
    "                                                             star_snapdict['Masses']*mass_scaler,\n",
    "                                                             star_snapdict['StellarAge'],\n",
    "                                                             star_snapdict['Metallicity'])\n",
    "\n",
    "\n",
    "# The lums output units are in 1e-10 Lsum\n",
    "unit_factor = 1e10 # gives units in Lsun\n",
    "lums[0], lums[1], lums[2] = lums[0]*unit_factor, lums[1]*unit_factor, lums[2]*unit_factor\n",
    "\n"
   ]
  },
  {
   "cell_type": "code",
   "execution_count": null,
   "id": "0633f472",
   "metadata": {},
   "outputs": [],
   "source": [
    "# To get the Half light radius use radius_of_param_limit\n",
    "# For more information use radius_of_param_limit?\n",
    "\n",
    "r_50_im, l_50_im = radius_of_param_limit(radii=star_snapdict['r_xy'], \n",
    "                                       parameter=lums[1], \n",
    "                                       limits=[.5], \n",
    "                                       limit_type='param_fraction')\n",
    "\n",
    "print('Half light radius determined from the g-band stellar luminosity')\n",
    "print(f'The half light radius is: {r_50_im[0]:.2f} kpc')\n",
    "print(f'The luminosity contained within the half light radius is: {l_50_im[0]/1e10:.2f} Lsun/1e10')\n",
    "   "
   ]
  },
  {
   "cell_type": "code",
   "execution_count": null,
   "id": "f14fad4c",
   "metadata": {},
   "outputs": [],
   "source": [
    "# If you also want the mock image use this method\n",
    "# The output of thus function is the composite image, \n",
    "# and the array of the surface brightness in each band \n",
    "\n",
    "#Field of view for the image in kpc\n",
    "FOV = limvalue\n",
    "#Number 0f pixels\n",
    "pixels= 100\n",
    "# the axis it is projected on, 'xy', 'yz', 'zx'\n",
    "view = 'xy' \n",
    "# use the center of mass or center of light, 'light', 'mass'\n",
    "center = 'light'\n",
    "# the limiting surface brightness, if you dont want to limit it set it equal to zero\n",
    "minden = mag_to_lum_SB(29,None) # I set it to 29 mag/arcsec^2. This function convers it to lum/kpc^2\n",
    "\n",
    "\n",
    "image,out_band0,out_band1,out_band2 = get_mock_observation(star_snapdict,\n",
    "                                                               gas_snapdict,\n",
    "                                                               bands = [1,2,3],\n",
    "                                                               FOV=FOV,\n",
    "                                                               mass_scaler = 1e-10,\n",
    "                                                               pixels=pixels,\n",
    "                                                               view='xy',\n",
    "                                                               minden = minden,\n",
    "                                                               center = center\n",
    "                                                            )"
   ]
  },
  {
   "cell_type": "code",
   "execution_count": null,
   "id": "99f99d2c",
   "metadata": {},
   "outputs": [],
   "source": [
    "plt.imshow(image)"
   ]
  },
  {
   "cell_type": "code",
   "execution_count": null,
   "id": "39548a5f",
   "metadata": {},
   "outputs": [],
   "source": [
    "radius,lum_in_shell = measure_surfbright(out_band1,FOV,return_type='shell_lum')\n",
    "\n",
    "r_50_lum, l_50_lum = radius_of_param_limit(radii=radius,\n",
    "                                               parameter=lum_in_shell, \n",
    "                                               limits=[.5],\n",
    "                                               limit_type='param_fraction')\n",
    "\n",
    "print('Half Light radius from mock g-band Image')\n",
    "print(f'The half light radius is: {r_50_lum[0]:.2f} kpc')\n",
    "print(f'The luminosity contained within the half light radius is: {l_50_lum[0]/1e10:.2f} Lsun/1e10')"
   ]
  },
  {
   "cell_type": "code",
   "execution_count": null,
   "id": "01c95686",
   "metadata": {},
   "outputs": [],
   "source": [
    "sum_light = np.zeros(len(radius))\n",
    "\n",
    "for i in range(len(radius)):\n",
    "    rmask = (star_snapdict['r_xy'] <  radius[i])\n",
    "    sum_light[i] = np.sum(lums[1][rmask]) \n"
   ]
  },
  {
   "cell_type": "code",
   "execution_count": null,
   "id": "dd8eed3a",
   "metadata": {},
   "outputs": [],
   "source": [
    "plt.plot(radius,sum_light/sum_light[-1],label='Luminosity')\n",
    "plt.plot(radius,np.cumsum(lum_in_shell)/np.cumsum(lum_in_shell)[-1],label='Image')\n",
    "plt.gca().set_xscale('log')\n",
    "plt.axhline(y=0.5, color='k', linestyle='-', label='Half Light')\n",
    "plt.axvline(x=r_50_lum[0], color='r', linestyle='--')\n",
    "plt.axvline(x=r_50_im[0], color='r', linestyle='--')\n",
    "plt.title('Fraction of Light')\n",
    "plt.xlabel('Radius [kpc]')\n",
    "plt.legend()"
   ]
  },
  {
   "cell_type": "code",
   "execution_count": null,
   "id": "b7b42a6c",
   "metadata": {},
   "outputs": [],
   "source": []
  }
 ],
 "metadata": {
  "kernelspec": {
   "display_name": "Python 3",
   "language": "python",
   "name": "python3"
  },
  "language_info": {
   "codemirror_mode": {
    "name": "ipython",
    "version": 3
   },
   "file_extension": ".py",
   "mimetype": "text/x-python",
   "name": "python",
   "nbconvert_exporter": "python",
   "pygments_lexer": "ipython3",
   "version": "3.6.8"
  }
 },
 "nbformat": 4,
 "nbformat_minor": 5
}
