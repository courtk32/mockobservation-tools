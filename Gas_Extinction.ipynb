{
 "cells": [
  {
   "cell_type": "code",
   "execution_count": 1,
   "id": "26de0574",
   "metadata": {},
   "outputs": [
    {
     "name": "stdout",
     "output_type": "stream",
     "text": [
      "palettable colormaps are not installed\n",
      "don't have phil's colormaps\n"
     ]
    }
   ],
   "source": [
    "import matplotlib.pyplot as plt\n",
    "import numpy as np\n",
    "\n",
    "from galaxy_tools import load_halo, load_sim, mask_sim_to_halo, get_mock_observation\n",
    "from general_tools import mag_to_lum_SB\n",
    "\n",
    "%matplotlib inline\n"
   ]
  },
  {
   "cell_type": "markdown",
   "id": "5d3d886e",
   "metadata": {},
   "source": [
    "### Note:\n",
    "This notebook was set up to run on GreenPlanet based on the paths used."
   ]
  },
  {
   "cell_type": "markdown",
   "id": "37ceffad",
   "metadata": {},
   "source": [
    "## Gas Extinction\n",
    "\n",
    "This is an overview of calculating the extinction due to gas extinction in the mock images. \n",
    "\n",
    "The general absorption calculation is:\n",
    "\n",
    "$$I_{\\lambda} = I_{\\lambda,0} e^{-\\tau_{\\lambda}}$$ \n",
    "\n",
    "Where $\\tau$ is the optical depth.\n",
    "\n",
    "$$\\tau = \\sigma N_d $$\n",
    "\n",
    "Where $\\sigma$ is the scattering cross section and $N_d$ is is the dust grain column density.  \n",
    "\n",
    "For these calculations the scattering cross section is assumed to be constant for a given band. \n",
    "\n",
    "$e^{-\\tau_{\\lambda}}$ is multiplied by the luminosity in the pixel, to determine the absorption for everything physically behind the gas\n"
   ]
  },
  {
   "cell_type": "markdown",
   "id": "6cfdfe32",
   "metadata": {},
   "source": [
    "### Gas Calculation for Mock Images\n",
    "\n",
    "The cross section $\\sigma$ is calulating using the cross_section function which calculates the cross section per solar metalicity.\n",
    "\n",
    "The cross section is based on the photoelectric absorption from Morrison: \\\n",
    "https://articles.adsabs.harvard.edu/pdf/1983ApJ...270..119M\n",
    "\n",
    "and the Dust extinction from Pei: \\\n",
    "https://articles.adsabs.harvard.edu/pdf/1992ApJ...395..130P\n",
    "\n",
    "\n",
    "The column density $N_d$ is calculated based on gas$_{mass}$ ( gas$_{metal}$ / solar$_{metal}$ ).\n",
    "\n",
    "The gas$_{metal}$ is the metalicity (everything not H, He) in units of mass fraction and the solar$_{metal}$ is 0.02. \n"
   ]
  },
  {
   "cell_type": "markdown",
   "id": "e9a3c6e1",
   "metadata": {},
   "source": [
    "### Calulation of the Gas Map \n",
    "\n",
    "Below shows the a sum of the gas dust mass map. The mock image returns the gas map, and so I recreate the mass map with the particles. \n",
    "\n",
    "The pixel size does not change the gas map accumulative mass plot, although smaller pixel sizes makes it more stochastic.\n",
    "\n",
    "The limvalue is the physical limit mask for the partical mask and the FOV is the physical limit for the image. Both masks use the limits for a spherical radius. \n"
   ]
  },
  {
   "cell_type": "code",
   "execution_count": 2,
   "id": "e68c1ff3",
   "metadata": {},
   "outputs": [],
   "source": [
    "sim = 'm11a_res2100'\n",
    "\n",
    "snap_num = 600\n",
    "\n",
    "# path to the directory holding the simulation snapshot \n",
    "sim_path =  '/data17/grenache/aalazar/FIRE/GVB/'+str(sim)+'/output/hdf5/snapdir_'+str(snap_num)+'/'\n",
    "\n",
    "# path to the directory holding the halo files for the simulation\n",
    "halo_path = '/data17/grenache/aalazar/FIRE/GVB/'+str(sim)+'/halo/rockstar_dm/hdf5/'\n"
   ]
  },
  {
   "cell_type": "code",
   "execution_count": 3,
   "id": "70ac3d17",
   "metadata": {},
   "outputs": [
    {
     "ename": "FileNotFoundError",
     "evalue": "[Errno 2] Unable to open file (unable to open file: name = '/data17/grenache/aalazar/FIRE/GVB/m11a_res2100/halo/rockstar_dm/hdf5/halo_600.hdf5', errno = 2, error message = 'No such file or directory', flags = 0, o_flags = 0)",
     "output_type": "error",
     "traceback": [
      "\u001b[0;31m---------------------------------------------------------------------------\u001b[0m",
      "\u001b[0;31mFileNotFoundError\u001b[0m                         Traceback (most recent call last)",
      "\u001b[0;32m/var/folders/bm/n50953kd0yj8vwl7qjb3thz80000gn/T/ipykernel_3150/2672388399.py\u001b[0m in \u001b[0;36m<module>\u001b[0;34m\u001b[0m\n\u001b[1;32m      7\u001b[0m         \u001b[0;31m#    halo_louise = load_halo(halo_path, snap_num, host=True, filetype='hdf5', hostnumber=2)\u001b[0m\u001b[0;34m\u001b[0m\u001b[0;34m\u001b[0m\u001b[0m\n\u001b[1;32m      8\u001b[0m \u001b[0;34m\u001b[0m\u001b[0m\n\u001b[0;32m----> 9\u001b[0;31m \u001b[0mhalo\u001b[0m \u001b[0;34m=\u001b[0m \u001b[0mload_halo\u001b[0m\u001b[0;34m(\u001b[0m\u001b[0mhalo_path\u001b[0m\u001b[0;34m,\u001b[0m \u001b[0msnap_num\u001b[0m\u001b[0;34m,\u001b[0m \u001b[0mhost\u001b[0m\u001b[0;34m=\u001b[0m\u001b[0;32mTrue\u001b[0m\u001b[0;34m,\u001b[0m \u001b[0mfiletype\u001b[0m\u001b[0;34m=\u001b[0m\u001b[0;34m'hdf5'\u001b[0m\u001b[0;34m,\u001b[0m \u001b[0mhostnumber\u001b[0m\u001b[0;34m=\u001b[0m\u001b[0;36m1\u001b[0m\u001b[0;34m)\u001b[0m\u001b[0;34m\u001b[0m\u001b[0;34m\u001b[0m\u001b[0m\n\u001b[0m",
      "\u001b[0;32m~/Research/packages/my_tools/galaxy_tools.py\u001b[0m in \u001b[0;36mload_halo\u001b[0;34m(pathtofolder, snapshot, host, filetype, hostnumber)\u001b[0m\n\u001b[1;32m    191\u001b[0m         \u001b[0;31m# Sizes are loaded as comoving, no 1/h factor\u001b[0m\u001b[0;34m\u001b[0m\u001b[0;34m\u001b[0m\u001b[0m\n\u001b[1;32m    192\u001b[0m         \u001b[0;31m# I think masses are are in M_sun\u001b[0m\u001b[0;34m\u001b[0m\u001b[0;34m\u001b[0m\u001b[0m\n\u001b[0;32m--> 193\u001b[0;31m         \u001b[0mhalo_load\u001b[0m \u001b[0;34m=\u001b[0m \u001b[0mh5py\u001b[0m\u001b[0;34m.\u001b[0m\u001b[0mFile\u001b[0m\u001b[0;34m(\u001b[0m\u001b[0mpathtofolder\u001b[0m \u001b[0;34m+\u001b[0m\u001b[0;34m'halo_'\u001b[0m\u001b[0;34m+\u001b[0m \u001b[0mstr\u001b[0m\u001b[0;34m(\u001b[0m\u001b[0msnapshot\u001b[0m\u001b[0;34m)\u001b[0m \u001b[0;34m+\u001b[0m\u001b[0;34m'.hdf5'\u001b[0m\u001b[0;34m)\u001b[0m\u001b[0;34m\u001b[0m\u001b[0;34m\u001b[0m\u001b[0m\n\u001b[0m\u001b[1;32m    194\u001b[0m         data = {'id':halo_load['id'][:],\n\u001b[1;32m    195\u001b[0m                 \u001b[0;34m'x'\u001b[0m\u001b[0;34m:\u001b[0m\u001b[0mhalo_load\u001b[0m\u001b[0;34m[\u001b[0m\u001b[0;34m'position'\u001b[0m\u001b[0;34m]\u001b[0m\u001b[0;34m[\u001b[0m\u001b[0;34m:\u001b[0m\u001b[0;34m,\u001b[0m\u001b[0;36m0\u001b[0m\u001b[0;34m]\u001b[0m\u001b[0;34m,\u001b[0m\u001b[0;34m\u001b[0m\u001b[0;34m\u001b[0m\u001b[0m\n",
      "\u001b[0;32m/opt/anaconda3/lib/python3.9/site-packages/h5py/_hl/files.py\u001b[0m in \u001b[0;36m__init__\u001b[0;34m(self, name, mode, driver, libver, userblock_size, swmr, rdcc_nslots, rdcc_nbytes, rdcc_w0, track_order, fs_strategy, fs_persist, fs_threshold, **kwds)\u001b[0m\n\u001b[1;32m    440\u001b[0m             \u001b[0;32mwith\u001b[0m \u001b[0mphil\u001b[0m\u001b[0;34m:\u001b[0m\u001b[0;34m\u001b[0m\u001b[0;34m\u001b[0m\u001b[0m\n\u001b[1;32m    441\u001b[0m                 \u001b[0mfapl\u001b[0m \u001b[0;34m=\u001b[0m \u001b[0mmake_fapl\u001b[0m\u001b[0;34m(\u001b[0m\u001b[0mdriver\u001b[0m\u001b[0;34m,\u001b[0m \u001b[0mlibver\u001b[0m\u001b[0;34m,\u001b[0m \u001b[0mrdcc_nslots\u001b[0m\u001b[0;34m,\u001b[0m \u001b[0mrdcc_nbytes\u001b[0m\u001b[0;34m,\u001b[0m \u001b[0mrdcc_w0\u001b[0m\u001b[0;34m,\u001b[0m \u001b[0;34m**\u001b[0m\u001b[0mkwds\u001b[0m\u001b[0;34m)\u001b[0m\u001b[0;34m\u001b[0m\u001b[0;34m\u001b[0m\u001b[0m\n\u001b[0;32m--> 442\u001b[0;31m                 fid = make_fid(name, mode, userblock_size,\n\u001b[0m\u001b[1;32m    443\u001b[0m                                fapl, fcpl=make_fcpl(track_order=track_order, fs_strategy=fs_strategy,\n\u001b[1;32m    444\u001b[0m                                fs_persist=fs_persist, fs_threshold=fs_threshold),\n",
      "\u001b[0;32m/opt/anaconda3/lib/python3.9/site-packages/h5py/_hl/files.py\u001b[0m in \u001b[0;36mmake_fid\u001b[0;34m(name, mode, userblock_size, fapl, fcpl, swmr)\u001b[0m\n\u001b[1;32m    193\u001b[0m         \u001b[0;32mif\u001b[0m \u001b[0mswmr\u001b[0m \u001b[0;32mand\u001b[0m \u001b[0mswmr_support\u001b[0m\u001b[0;34m:\u001b[0m\u001b[0;34m\u001b[0m\u001b[0;34m\u001b[0m\u001b[0m\n\u001b[1;32m    194\u001b[0m             \u001b[0mflags\u001b[0m \u001b[0;34m|=\u001b[0m \u001b[0mh5f\u001b[0m\u001b[0;34m.\u001b[0m\u001b[0mACC_SWMR_READ\u001b[0m\u001b[0;34m\u001b[0m\u001b[0;34m\u001b[0m\u001b[0m\n\u001b[0;32m--> 195\u001b[0;31m         \u001b[0mfid\u001b[0m \u001b[0;34m=\u001b[0m \u001b[0mh5f\u001b[0m\u001b[0;34m.\u001b[0m\u001b[0mopen\u001b[0m\u001b[0;34m(\u001b[0m\u001b[0mname\u001b[0m\u001b[0;34m,\u001b[0m \u001b[0mflags\u001b[0m\u001b[0;34m,\u001b[0m \u001b[0mfapl\u001b[0m\u001b[0;34m=\u001b[0m\u001b[0mfapl\u001b[0m\u001b[0;34m)\u001b[0m\u001b[0;34m\u001b[0m\u001b[0;34m\u001b[0m\u001b[0m\n\u001b[0m\u001b[1;32m    196\u001b[0m     \u001b[0;32melif\u001b[0m \u001b[0mmode\u001b[0m \u001b[0;34m==\u001b[0m \u001b[0;34m'r+'\u001b[0m\u001b[0;34m:\u001b[0m\u001b[0;34m\u001b[0m\u001b[0;34m\u001b[0m\u001b[0m\n\u001b[1;32m    197\u001b[0m         \u001b[0mfid\u001b[0m \u001b[0;34m=\u001b[0m \u001b[0mh5f\u001b[0m\u001b[0;34m.\u001b[0m\u001b[0mopen\u001b[0m\u001b[0;34m(\u001b[0m\u001b[0mname\u001b[0m\u001b[0;34m,\u001b[0m \u001b[0mh5f\u001b[0m\u001b[0;34m.\u001b[0m\u001b[0mACC_RDWR\u001b[0m\u001b[0;34m,\u001b[0m \u001b[0mfapl\u001b[0m\u001b[0;34m=\u001b[0m\u001b[0mfapl\u001b[0m\u001b[0;34m)\u001b[0m\u001b[0;34m\u001b[0m\u001b[0;34m\u001b[0m\u001b[0m\n",
      "\u001b[0;32mh5py/_objects.pyx\u001b[0m in \u001b[0;36mh5py._objects.with_phil.wrapper\u001b[0;34m()\u001b[0m\n",
      "\u001b[0;32mh5py/_objects.pyx\u001b[0m in \u001b[0;36mh5py._objects.with_phil.wrapper\u001b[0;34m()\u001b[0m\n",
      "\u001b[0;32mh5py/h5f.pyx\u001b[0m in \u001b[0;36mh5py.h5f.open\u001b[0;34m()\u001b[0m\n",
      "\u001b[0;31mFileNotFoundError\u001b[0m: [Errno 2] Unable to open file (unable to open file: name = '/data17/grenache/aalazar/FIRE/GVB/m11a_res2100/halo/rockstar_dm/hdf5/halo_600.hdf5', errno = 2, error message = 'No such file or directory', flags = 0, o_flags = 0)"
     ]
    }
   ],
   "source": [
    "# This loads the halo file\n",
    "# host=True means it only returns the host halo information, otherwise it returns all the halos\n",
    "# filetype='hdf5' indicate the halo file type, some halos are filetype='ascii'\n",
    "# hostnumber indicates which host halo you are looking at. Only need to worry about this for the elvis pairs.\n",
    "        #use hostnumber=2 to get the halo info for the second host halo. \n",
    "        #ex: halo_themla = load_halo(halo_path, snap_num, host=True, filetype='hdf5', hostnumber=1)\n",
    "        #    halo_louise = load_halo(halo_path, snap_num, host=True, filetype='hdf5', hostnumber=2)\n",
    "\n",
    "halo = load_halo(halo_path, snap_num, host=True, filetype='hdf5', hostnumber=1)\n"
   ]
  },
  {
   "cell_type": "code",
   "execution_count": null,
   "id": "099359a4",
   "metadata": {},
   "outputs": [],
   "source": [
    "# This loads the star and gas particle\n",
    "# It only loads the parameters I need for the mock images\n",
    "# gas_temp=True returns the particle information to calculate the temperature of gas\n",
    "\n",
    "star_snapdict, gas_snapdict = load_sim(sim_path,snap_num,gas_temp=True)\n"
   ]
  },
  {
   "cell_type": "code",
   "execution_count": null,
   "id": "407f10dc",
   "metadata": {},
   "outputs": [],
   "source": [
    "# This centers star and gas dictionaries on the host halo\n",
    "# If orient=True, then it will rotate the particles based on the disk orientation\n",
    "# If lim=True, then it masks out the particles beyond the limvalue\n",
    "    # Have lim=False if you want to carry around all the particles\n",
    "    # I chose to mask out particles beyond the virial radius\n",
    "\n",
    "limvalue = halo['Halfmass_Radius'].values[0] / 5\n",
    "\n",
    "star_snapdict, gas_snapdict, halo = mask_sim_to_halo(star_snapdict=star_snapdict, \n",
    "                                                         gas_snapdict=gas_snapdict, \n",
    "                                                         host_halo=halo, \n",
    "                                                         orient=True, \n",
    "                                                         lim = True, \n",
    "                                                         limvalue = limvalue \n",
    "                                                        )\n"
   ]
  },
  {
   "cell_type": "code",
   "execution_count": null,
   "id": "10609b6c",
   "metadata": {
    "scrolled": true
   },
   "outputs": [],
   "source": [
    "plt.hexbin(gas_snapdict['Coordinates'][:,0],gas_snapdict['Coordinates'][:,1], bins='log')\n",
    "plt.gca().set_aspect(1)"
   ]
  },
  {
   "cell_type": "code",
   "execution_count": null,
   "id": "f14fad4c",
   "metadata": {},
   "outputs": [],
   "source": [
    "mass_scaler = 1e-10\n",
    "bands = [1,2,3]\n",
    "\n",
    "#Field of view for the image in kpc \n",
    "FOV = limvalue/2\n",
    "#Number of pixels\n",
    "pixels = 500\n",
    "# the axis it is projected on, 'xy', 'yz', 'zx'\n",
    "view = 'xy' \n",
    "# use the center of mass or center of light, 'light', 'mass'\n",
    "center = 'none'\n",
    "# the limiting surface brightness, if you dont want to limit it set it equal to zero\n",
    "minden = mag_to_lum_SB(29,None) # I set it to 29 mag/arcsec^2. This function convers it to lum/kpc^2\n",
    "\n",
    "return_type = 'gas_mass'\n",
    "\n",
    "gas_mass = get_mock_observation(star_snapdict,\n",
    "                                gas_snapdict,\n",
    "                                bands = bands,\n",
    "                                FOV = FOV,\n",
    "                                mass_scaler = mass_scaler,\n",
    "                                pixels = pixels,\n",
    "                                view = view,\n",
    "                                minden = minden,\n",
    "                                center = center,\n",
    "                                return_type = return_type\n",
    "                               )\n"
   ]
  },
  {
   "cell_type": "code",
   "execution_count": null,
   "id": "99f99d2c",
   "metadata": {},
   "outputs": [],
   "source": [
    "plt.imshow(gas_mass**0.1)"
   ]
  },
  {
   "cell_type": "code",
   "execution_count": null,
   "id": "6f8e6525",
   "metadata": {},
   "outputs": [],
   "source": [
    "#Calculate the dust mass. \n",
    "gas_mass_metal = gas_snapdict['Masses'] * (gas_snapdict['Metallicity'] / 0.02) "
   ]
  },
  {
   "cell_type": "code",
   "execution_count": null,
   "id": "d8859ca7",
   "metadata": {},
   "outputs": [],
   "source": [
    "image = gas_mass \n",
    "pixels = len(image) \n",
    "nmeasure = 100 \n",
    "\n",
    "half_pix_size  = FOV / pixels # distance from center of pixel to edge \n",
    "x_coord_kpc = np.linspace(-FOV + half_pix_size, FOV - half_pix_size, num=pixels) \n",
    "x_coord_kpc = np.array([x_coord_kpc,]*pixels) \n",
    "y_coord_kpc = np.linspace(FOV - half_pix_size, -FOV + half_pix_size, num=pixels) \n",
    "y_coord_kpc = np.array([y_coord_kpc,]*pixels).transpose()\n",
    "\n",
    "radius = np.linspace(4*half_pix_size,FOV + half_pix_size,num=nmeasure)     \n",
    "sum_gas_im = np.zeros(len(radius))\n",
    "\n",
    "for i in range(len(radius)):\n",
    "    rmask = ((x_coord_kpc)**2 + (y_coord_kpc)**2  <  radius[i]**2)\n",
    "    sum_gas_im[i] = np.sum(image[rmask]) * 1e10\n",
    "    "
   ]
  },
  {
   "cell_type": "code",
   "execution_count": null,
   "id": "15ba4cc0",
   "metadata": {},
   "outputs": [],
   "source": [
    "sum_gas_part = np.zeros(len(radius))\n",
    "\n",
    "for i in range(len(radius)):\n",
    "    \n",
    "    rmask = (((gas_snapdict['Coordinates'][:,0]**2 + \n",
    "               gas_snapdict['Coordinates'][:,1]**2)  <  radius[i]**2) & \n",
    "             ((gas_snapdict['Coordinates'][:,0]**2 + \n",
    "               gas_snapdict['Coordinates'][:,1]**2 + \n",
    "               gas_snapdict['Coordinates'][:,2]**2) < FOV**2))\n",
    "    \n",
    "    sum_gas_part[i] = np.sum(gas_mass_metal[rmask]) \n",
    "    "
   ]
  },
  {
   "cell_type": "code",
   "execution_count": null,
   "id": "53b725c1",
   "metadata": {},
   "outputs": [],
   "source": [
    "plt.scatter(radius, sum_gas_part, label='Particle')\n",
    "plt.scatter(radius, sum_gas_im, label='Image')\n",
    "plt.xlabel('Radius')\n",
    "plt.ylabel('Mass')\n",
    "plt.title('Gas Mass')\n",
    "plt.yscale('log')\n",
    "plt.legend()"
   ]
  },
  {
   "cell_type": "code",
   "execution_count": null,
   "id": "58411836",
   "metadata": {},
   "outputs": [],
   "source": [
    "plt.scatter(radius, sum_gas_part/sum_gas_part[-1] , label='Particle')\n",
    "plt.scatter(radius, sum_gas_im/sum_gas_im[-1], label='Image')\n",
    "plt.xlabel('Radius')\n",
    "plt.legend()"
   ]
  },
  {
   "cell_type": "code",
   "execution_count": null,
   "id": "9a415bfd",
   "metadata": {},
   "outputs": [],
   "source": [
    "plt.plot(radius[2:], sum_gas_im[2:]/sum_gas_part[2:])\n",
    "plt.title('Image/Particles')\n",
    "plt.xlabel('Radius')"
   ]
  },
  {
   "cell_type": "code",
   "execution_count": null,
   "id": "b2c9ce7e",
   "metadata": {},
   "outputs": [],
   "source": [
    "print(f'Image Gas Mass: {sum_gas_im[-1] * 1e-10:.5f}')\n",
    "      \n",
    "print(f'Particle Gas Mass: {sum_gas_part[-1]* 1e-10:.5f}')\n",
    "\n",
    "print(f'Image vs Particle Mass: {sum_gas_im[-1]/sum_gas_part[-1]:.5f}')\n"
   ]
  }
 ],
 "metadata": {
  "kernelspec": {
   "display_name": "Python 3 (ipykernel)",
   "language": "python",
   "name": "python3"
  },
  "language_info": {
   "codemirror_mode": {
    "name": "ipython",
    "version": 3
   },
   "file_extension": ".py",
   "mimetype": "text/x-python",
   "name": "python",
   "nbconvert_exporter": "python",
   "pygments_lexer": "ipython3",
   "version": "3.9.7"
  }
 },
 "nbformat": 4,
 "nbformat_minor": 5
}
